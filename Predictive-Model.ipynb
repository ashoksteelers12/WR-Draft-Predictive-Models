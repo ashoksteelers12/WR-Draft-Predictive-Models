{
 "cells": [
  {
   "cell_type": "code",
   "execution_count": null,
   "metadata": {},
   "outputs": [],
   "source": []
  },
  {
   "cell_type": "code",
   "execution_count": 1,
   "metadata": {},
   "outputs": [],
   "source": [
    "from sklearn.preprocessing import StandardScaler\n",
    "from sklearn.model_selection import train_test_split\n",
    "from sklearn.ensemble import RandomForestClassifier\n",
    "from sklearn.metrics import accuracy_score\n",
    "import pandas as pd\n",
    "import numpy as np"
   ]
  },
  {
   "cell_type": "code",
   "execution_count": 2,
   "metadata": {},
   "outputs": [],
   "source": [
    "%store -r WR_Prospects_Updated"
   ]
  },
  {
   "cell_type": "code",
   "execution_count": 3,
   "metadata": {},
   "outputs": [
    {
     "data": {
      "text/html": [
       "<div>\n",
       "<style scoped>\n",
       "    .dataframe tbody tr th:only-of-type {\n",
       "        vertical-align: middle;\n",
       "    }\n",
       "\n",
       "    .dataframe tbody tr th {\n",
       "        vertical-align: top;\n",
       "    }\n",
       "\n",
       "    .dataframe thead th {\n",
       "        text-align: right;\n",
       "    }\n",
       "</style>\n",
       "<table border=\"1\" class=\"dataframe\">\n",
       "  <thead>\n",
       "    <tr style=\"text-align: right;\">\n",
       "      <th></th>\n",
       "      <th>Name</th>\n",
       "      <th>Conference</th>\n",
       "      <th>College</th>\n",
       "      <th>Year</th>\n",
       "      <th>Grade</th>\n",
       "      <th>Round</th>\n",
       "      <th>Class</th>\n",
       "      <th>H0</th>\n",
       "      <th>H1</th>\n",
       "      <th>H2</th>\n",
       "      <th>CG</th>\n",
       "      <th>GH</th>\n",
       "    </tr>\n",
       "  </thead>\n",
       "  <tbody>\n",
       "    <tr>\n",
       "      <th>0</th>\n",
       "      <td>Marcell Ateman</td>\n",
       "      <td>Big 12</td>\n",
       "      <td>Oklahoma State</td>\n",
       "      <td>2018</td>\n",
       "      <td>6.1</td>\n",
       "      <td>7</td>\n",
       "      <td>5</td>\n",
       "      <td>5</td>\n",
       "      <td>0</td>\n",
       "      <td>0</td>\n",
       "      <td>0</td>\n",
       "      <td>0</td>\n",
       "    </tr>\n",
       "    <tr>\n",
       "      <th>1</th>\n",
       "      <td>Braxton Berrios</td>\n",
       "      <td>ACC</td>\n",
       "      <td>Miami</td>\n",
       "      <td>2018</td>\n",
       "      <td>5.9</td>\n",
       "      <td>6</td>\n",
       "      <td>4</td>\n",
       "      <td>4</td>\n",
       "      <td>0</td>\n",
       "      <td>0</td>\n",
       "      <td>1</td>\n",
       "      <td>0</td>\n",
       "    </tr>\n",
       "    <tr>\n",
       "      <th>2</th>\n",
       "      <td>Deontay Burnett</td>\n",
       "      <td>Pac 12</td>\n",
       "      <td>USC</td>\n",
       "      <td>2018</td>\n",
       "      <td>5.9</td>\n",
       "      <td>0</td>\n",
       "      <td>3</td>\n",
       "      <td>5</td>\n",
       "      <td>0</td>\n",
       "      <td>0</td>\n",
       "      <td>1</td>\n",
       "      <td>0</td>\n",
       "    </tr>\n",
       "    <tr>\n",
       "      <th>3</th>\n",
       "      <td>Deon Cain</td>\n",
       "      <td>ACC</td>\n",
       "      <td>Clemson</td>\n",
       "      <td>2018</td>\n",
       "      <td>6.3</td>\n",
       "      <td>6</td>\n",
       "      <td>3</td>\n",
       "      <td>7</td>\n",
       "      <td>0</td>\n",
       "      <td>0</td>\n",
       "      <td>1</td>\n",
       "      <td>2</td>\n",
       "    </tr>\n",
       "    <tr>\n",
       "      <th>4</th>\n",
       "      <td>Antonio Callaway</td>\n",
       "      <td>SEC</td>\n",
       "      <td>Florida</td>\n",
       "      <td>2018</td>\n",
       "      <td>6.1</td>\n",
       "      <td>4</td>\n",
       "      <td>3</td>\n",
       "      <td>4</td>\n",
       "      <td>0</td>\n",
       "      <td>0</td>\n",
       "      <td>2</td>\n",
       "      <td>0</td>\n",
       "    </tr>\n",
       "    <tr>\n",
       "      <th>...</th>\n",
       "      <td>...</td>\n",
       "      <td>...</td>\n",
       "      <td>...</td>\n",
       "      <td>...</td>\n",
       "      <td>...</td>\n",
       "      <td>...</td>\n",
       "      <td>...</td>\n",
       "      <td>...</td>\n",
       "      <td>...</td>\n",
       "      <td>...</td>\n",
       "      <td>...</td>\n",
       "      <td>...</td>\n",
       "    </tr>\n",
       "    <tr>\n",
       "      <th>100</th>\n",
       "      <td>Darrell Stewart</td>\n",
       "      <td>Big 10</td>\n",
       "      <td>Michigan State</td>\n",
       "      <td>2020</td>\n",
       "      <td>5.4</td>\n",
       "      <td>0</td>\n",
       "      <td>5</td>\n",
       "      <td>2</td>\n",
       "      <td>0</td>\n",
       "      <td>0</td>\n",
       "      <td>0</td>\n",
       "      <td>1</td>\n",
       "    </tr>\n",
       "    <tr>\n",
       "      <th>101</th>\n",
       "      <td>Freddie Swain</td>\n",
       "      <td>SEC</td>\n",
       "      <td>Florida</td>\n",
       "      <td>2020</td>\n",
       "      <td>5.8</td>\n",
       "      <td>6</td>\n",
       "      <td>4</td>\n",
       "      <td>3</td>\n",
       "      <td>0</td>\n",
       "      <td>0</td>\n",
       "      <td>2</td>\n",
       "      <td>1</td>\n",
       "    </tr>\n",
       "    <tr>\n",
       "      <th>102</th>\n",
       "      <td>Jeff Thomas</td>\n",
       "      <td>ACC</td>\n",
       "      <td>Miami</td>\n",
       "      <td>2020</td>\n",
       "      <td>5.6</td>\n",
       "      <td>0</td>\n",
       "      <td>3</td>\n",
       "      <td>5</td>\n",
       "      <td>0</td>\n",
       "      <td>0</td>\n",
       "      <td>1</td>\n",
       "      <td>0</td>\n",
       "    </tr>\n",
       "    <tr>\n",
       "      <th>103</th>\n",
       "      <td>Ben Victor</td>\n",
       "      <td>Big 10</td>\n",
       "      <td>Ohio State</td>\n",
       "      <td>2020</td>\n",
       "      <td>5.5</td>\n",
       "      <td>0</td>\n",
       "      <td>4</td>\n",
       "      <td>5</td>\n",
       "      <td>0</td>\n",
       "      <td>0</td>\n",
       "      <td>0</td>\n",
       "      <td>0</td>\n",
       "    </tr>\n",
       "    <tr>\n",
       "      <th>104</th>\n",
       "      <td>Cody White</td>\n",
       "      <td>Big 10</td>\n",
       "      <td>Michigan State</td>\n",
       "      <td>2020</td>\n",
       "      <td>5.4</td>\n",
       "      <td>0</td>\n",
       "      <td>3</td>\n",
       "      <td>4</td>\n",
       "      <td>0</td>\n",
       "      <td>0</td>\n",
       "      <td>0</td>\n",
       "      <td>0</td>\n",
       "    </tr>\n",
       "  </tbody>\n",
       "</table>\n",
       "<p>105 rows × 12 columns</p>\n",
       "</div>"
      ],
      "text/plain": [
       "                 Name Conference         College  Year  Grade  Round  Class  \\\n",
       "0      Marcell Ateman     Big 12  Oklahoma State  2018    6.1      7      5   \n",
       "1     Braxton Berrios        ACC           Miami  2018    5.9      6      4   \n",
       "2     Deontay Burnett     Pac 12             USC  2018    5.9      0      3   \n",
       "3           Deon Cain        ACC         Clemson  2018    6.3      6      3   \n",
       "4    Antonio Callaway        SEC         Florida  2018    6.1      4      3   \n",
       "..                ...        ...             ...   ...    ...    ...    ...   \n",
       "100   Darrell Stewart     Big 10  Michigan State  2020    5.4      0      5   \n",
       "101     Freddie Swain        SEC         Florida  2020    5.8      6      4   \n",
       "102       Jeff Thomas        ACC           Miami  2020    5.6      0      3   \n",
       "103        Ben Victor     Big 10      Ohio State  2020    5.5      0      4   \n",
       "104        Cody White     Big 10  Michigan State  2020    5.4      0      3   \n",
       "\n",
       "     H0  H1  H2  CG  GH  \n",
       "0     5   0   0   0   0  \n",
       "1     4   0   0   1   0  \n",
       "2     5   0   0   1   0  \n",
       "3     7   0   0   1   2  \n",
       "4     4   0   0   2   0  \n",
       "..   ..  ..  ..  ..  ..  \n",
       "100   2   0   0   0   1  \n",
       "101   3   0   0   2   1  \n",
       "102   5   0   0   1   0  \n",
       "103   5   0   0   0   0  \n",
       "104   4   0   0   0   0  \n",
       "\n",
       "[105 rows x 12 columns]"
      ]
     },
     "execution_count": 3,
     "metadata": {},
     "output_type": "execute_result"
    }
   ],
   "source": [
    "# (Name, Conference, College, Year, Grade, Round #, Class, H0, H1, H2, Cluster: Conf. vs Grade, Cluster: Grade vs H0)\n",
    "    \n",
    "df_prospects = pd.DataFrame(WR_Prospects_Updated, columns = ['Name','Conference','College','Year','Grade','Round','Class','H0','H1','H2','CG','GH'])\n",
    "df_prospects"
   ]
  },
  {
   "cell_type": "code",
   "execution_count": 4,
   "metadata": {},
   "outputs": [],
   "source": [
    "conference = {'Big 12': 0, 'Big 10': 1, 'Pac 12': 2, 'ACC': 3, 'SEC': 4}\n",
    "df_prospects.Conference = [conference[item] for item in df_prospects.Conference]"
   ]
  },
  {
   "cell_type": "code",
   "execution_count": 5,
   "metadata": {},
   "outputs": [
    {
     "name": "stdout",
     "output_type": "stream",
     "text": [
      "0.5714285714285714\n"
     ]
    }
   ],
   "source": [
    "# Random Forest With Grade\n",
    "X = df_prospects.iloc[:, [4]].values\n",
    "y = df_prospects.iloc[:, 5].values\n",
    "Xtrain, Xtest, ytrain, ytest = train_test_split(X, y, test_size=0.2, random_state=0)\n",
    "ss = StandardScaler()\n",
    "Xtrain = ss.fit_transform(Xtrain)\n",
    "Xtest = ss.transform(Xtest)\n",
    "classifier = RandomForestClassifier(n_estimators=500, random_state=0)\n",
    "classifier.fit(Xtrain, ytrain)\n",
    "ypred = classifier.predict(Xtest)\n",
    "print(accuracy_score(ytest, ypred))"
   ]
  },
  {
   "cell_type": "code",
   "execution_count": 6,
   "metadata": {},
   "outputs": [
    {
     "name": "stdout",
     "output_type": "stream",
     "text": [
      "0.23809523809523808\n"
     ]
    }
   ],
   "source": [
    "# Random Forest With Homology\n",
    "X = df_prospects.iloc[:, [7,8,9]].values\n",
    "y = df_prospects.iloc[:, 5].values\n",
    "Xtrain, Xtest, ytrain, ytest = train_test_split(X, y, test_size=0.2, random_state=0)\n",
    "ss = StandardScaler()\n",
    "Xtrain = ss.fit_transform(Xtrain)\n",
    "Xtest = ss.transform(Xtest)\n",
    "classifier = RandomForestClassifier(n_estimators=500, random_state=0)\n",
    "classifier.fit(Xtrain, ytrain)\n",
    "ypred = classifier.predict(Xtest)\n",
    "print(accuracy_score(ytest, ypred))"
   ]
  },
  {
   "cell_type": "code",
   "execution_count": 7,
   "metadata": {},
   "outputs": [
    {
     "name": "stdout",
     "output_type": "stream",
     "text": [
      "0.47619047619047616\n"
     ]
    }
   ],
   "source": [
    "# Random Forest With Cluster of Conference/Grade\n",
    "X = df_prospects.iloc[:, [10]].values\n",
    "y = df_prospects.iloc[:, 5].values\n",
    "Xtrain, Xtest, ytrain, ytest = train_test_split(X, y, test_size=0.2, random_state=0)\n",
    "ss = StandardScaler()\n",
    "Xtrain = ss.fit_transform(Xtrain)\n",
    "Xtest = ss.transform(Xtest)\n",
    "classifier = RandomForestClassifier(n_estimators=500, random_state=0)\n",
    "classifier.fit(Xtrain, ytrain)\n",
    "ypred = classifier.predict(Xtest)\n",
    "print(accuracy_score(ytest, ypred))"
   ]
  },
  {
   "cell_type": "code",
   "execution_count": 8,
   "metadata": {},
   "outputs": [
    {
     "name": "stdout",
     "output_type": "stream",
     "text": [
      "0.5238095238095238\n"
     ]
    }
   ],
   "source": [
    "# Random Forest With Cluster of Grade and Homology\n",
    "X = df_prospects.iloc[:, [11]].values\n",
    "y = df_prospects.iloc[:, 5].values\n",
    "Xtrain, Xtest, ytrain, ytest = train_test_split(X, y, test_size=0.2, random_state=0)\n",
    "ss = StandardScaler()\n",
    "Xtrain = ss.fit_transform(Xtrain)\n",
    "Xtest = ss.transform(Xtest)\n",
    "classifier = RandomForestClassifier(n_estimators=500, random_state=0)\n",
    "classifier.fit(Xtrain, ytrain)\n",
    "ypred = classifier.predict(Xtest)\n",
    "print(accuracy_score(ytest, ypred))"
   ]
  },
  {
   "cell_type": "code",
   "execution_count": 9,
   "metadata": {},
   "outputs": [
    {
     "name": "stdout",
     "output_type": "stream",
     "text": [
      "0.23809523809523808\n"
     ]
    }
   ],
   "source": [
    "# Random Forest With Homology AND Cluster of Grade and Homology\n",
    "X = df_prospects.iloc[:, [7,8,9,11]].values\n",
    "y = df_prospects.iloc[:, 5].values\n",
    "Xtrain, Xtest, ytrain, ytest = train_test_split(X, y, test_size=0.2, random_state=0)\n",
    "ss = StandardScaler()\n",
    "Xtrain = ss.fit_transform(Xtrain)\n",
    "Xtest = ss.transform(Xtest)\n",
    "classifier = RandomForestClassifier(n_estimators=500, random_state=0)\n",
    "classifier.fit(Xtrain, ytrain)\n",
    "ypred = classifier.predict(Xtest)\n",
    "print(accuracy_score(ytest, ypred))"
   ]
  },
  {
   "cell_type": "code",
   "execution_count": 10,
   "metadata": {},
   "outputs": [
    {
     "name": "stdout",
     "output_type": "stream",
     "text": [
      "0.6190476190476191\n"
     ]
    }
   ],
   "source": [
    "# Random Forest With All Factors Excluding Homology and Clustering\n",
    "X = df_prospects.iloc[:, [1,4,6]].values\n",
    "y = df_prospects.iloc[:, 5].values\n",
    "Xtrain, Xtest, ytrain, ytest = train_test_split(X, y, test_size=0.2, random_state=0)\n",
    "ss = StandardScaler()\n",
    "Xtrain = ss.fit_transform(Xtrain)\n",
    "Xtest = ss.transform(Xtest)\n",
    "classifier = RandomForestClassifier(n_estimators=500, random_state=0)\n",
    "classifier.fit(Xtrain, ytrain)\n",
    "ypred = classifier.predict(Xtest)\n",
    "print(accuracy_score(ytest, ypred))"
   ]
  },
  {
   "cell_type": "code",
   "execution_count": 11,
   "metadata": {},
   "outputs": [
    {
     "name": "stdout",
     "output_type": "stream",
     "text": [
      "0.6190476190476191\n"
     ]
    }
   ],
   "source": [
    "# Random Forest With All Factors\n",
    "X = df_prospects.iloc[:, [1,4,6,7,8,9,10,11]].values\n",
    "y = df_prospects.iloc[:, 5].values\n",
    "Xtrain, Xtest, ytrain, ytest = train_test_split(X, y, test_size=0.2, random_state=0)\n",
    "ss = StandardScaler()\n",
    "Xtrain = ss.fit_transform(Xtrain)\n",
    "Xtest = ss.transform(Xtest)\n",
    "classifier = RandomForestClassifier(n_estimators=500, random_state=0)\n",
    "classifier.fit(Xtrain, ytrain)\n",
    "ypred = classifier.predict(Xtest)\n",
    "print(accuracy_score(ytest, ypred))"
   ]
  },
  {
   "cell_type": "code",
   "execution_count": 12,
   "metadata": {},
   "outputs": [
    {
     "name": "stdout",
     "output_type": "stream",
     "text": [
      "0.38095238095238093\n"
     ]
    }
   ],
   "source": [
    "# Random Forest With Grade AND Cluster of Conference and Grade\n",
    "X = df_prospects.iloc[:, [4,10]].values\n",
    "y = df_prospects.iloc[:, 5].values\n",
    "Xtrain, Xtest, ytrain, ytest = train_test_split(X, y, test_size=0.2, random_state=0)\n",
    "ss = StandardScaler()\n",
    "Xtrain = ss.fit_transform(Xtrain)\n",
    "Xtest = ss.transform(Xtest)\n",
    "classifier = RandomForestClassifier(n_estimators=500, random_state=0)\n",
    "classifier.fit(Xtrain, ytrain)\n",
    "ypred = classifier.predict(Xtest)\n",
    "print(accuracy_score(ytest, ypred))"
   ]
  },
  {
   "cell_type": "code",
   "execution_count": 13,
   "metadata": {},
   "outputs": [
    {
     "name": "stdout",
     "output_type": "stream",
     "text": [
      "0.6666666666666666\n"
     ]
    }
   ],
   "source": [
    "# Random Forest With Grade AND Cluster of Grade and Homology\n",
    "X = df_prospects.iloc[:, [4,11]].values\n",
    "y = df_prospects.iloc[:, 5].values\n",
    "Xtrain, Xtest, ytrain, ytest = train_test_split(X, y, test_size=0.2, random_state=0)\n",
    "ss = StandardScaler()\n",
    "Xtrain = ss.fit_transform(Xtrain)\n",
    "Xtest = ss.transform(Xtest)\n",
    "classifier = RandomForestClassifier(n_estimators=500, random_state=0)\n",
    "classifier.fit(Xtrain, ytrain)\n",
    "ypred = classifier.predict(Xtest)\n",
    "print(accuracy_score(ytest, ypred))"
   ]
  },
  {
   "cell_type": "code",
   "execution_count": 14,
   "metadata": {},
   "outputs": [
    {
     "name": "stdout",
     "output_type": "stream",
     "text": [
      "0.7142857142857143\n"
     ]
    }
   ],
   "source": [
    "# Random Forest With Grade AND Class\n",
    "X = df_prospects.iloc[:, [4,6]].values\n",
    "y = df_prospects.iloc[:, 5].values\n",
    "Xtrain, Xtest, ytrain, ytest = train_test_split(X, y, test_size=0.2, random_state=0)\n",
    "ss = StandardScaler()\n",
    "Xtrain = ss.fit_transform(Xtrain)\n",
    "Xtest = ss.transform(Xtest)\n",
    "classifier = RandomForestClassifier(n_estimators=500, random_state=0)\n",
    "classifier.fit(Xtrain, ytrain)\n",
    "ypred = classifier.predict(Xtest)\n",
    "print(accuracy_score(ytest, ypred))"
   ]
  },
  {
   "cell_type": "code",
   "execution_count": null,
   "metadata": {},
   "outputs": [],
   "source": []
  }
 ],
 "metadata": {
  "kernelspec": {
   "display_name": "Python 3",
   "language": "python",
   "name": "python3"
  },
  "language_info": {
   "codemirror_mode": {
    "name": "ipython",
    "version": 3
   },
   "file_extension": ".py",
   "mimetype": "text/x-python",
   "name": "python",
   "nbconvert_exporter": "python",
   "pygments_lexer": "ipython3",
   "version": "3.8.5"
  }
 },
 "nbformat": 4,
 "nbformat_minor": 4
}
